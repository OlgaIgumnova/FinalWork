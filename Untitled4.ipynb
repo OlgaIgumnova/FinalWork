{
  "nbformat": 4,
  "nbformat_minor": 0,
  "metadata": {
    "colab": {
      "provenance": [],
      "authorship_tag": "ABX9TyO5nT9K428KFohn9Bmp0qGX",
      "include_colab_link": true
    },
    "kernelspec": {
      "name": "python3",
      "display_name": "Python 3"
    },
    "language_info": {
      "name": "python"
    }
  },
  "cells": [
    {
      "cell_type": "markdown",
      "metadata": {
        "id": "view-in-github",
        "colab_type": "text"
      },
      "source": [
        "<a href=\"https://colab.research.google.com/github/OlgaIgumnova/FinalWork/blob/main/Untitled4.ipynb\" target=\"_parent\"><img src=\"https://colab.research.google.com/assets/colab-badge.svg\" alt=\"Open In Colab\"/></a>"
      ]
    },
    {
      "cell_type": "code",
      "execution_count": 2,
      "metadata": {
        "id": "AlofABo_JiLd"
      },
      "outputs": [],
      "source": [
        "import random\n",
        "import pandas as pd"
      ]
    },
    {
      "cell_type": "code",
      "source": [
        "lst = ['robot'] *10\n",
        "lst += ['human'] * 10\n",
        "random.shuffle(lst)\n",
        "\n",
        "def set_one_hot (row):\n",
        "  if row['whoAmI'] == 'robot':\n",
        "     row['robot'] = True\n",
        "  elif row['whoAmI'] == 'human':\n",
        "       row['human'] = True\n",
        "  return row\n",
        "  print(data.head())"
      ],
      "metadata": {
        "id": "_UC2NEeoJ9l9"
      },
      "execution_count": 7,
      "outputs": []
    },
    {
      "cell_type": "code",
      "source": [
        "data = pd.DataFrame().assign(robot=False, human=False)"
      ],
      "metadata": {
        "id": "buQrwCPYOuho"
      },
      "execution_count": 8,
      "outputs": []
    },
    {
      "cell_type": "code",
      "source": [
        "data = pd.DataFrame().assign(robot=False, human=False)"
      ],
      "metadata": {
        "id": "R0_87JL5O36_"
      },
      "execution_count": 9,
      "outputs": []
    }
  ]
}